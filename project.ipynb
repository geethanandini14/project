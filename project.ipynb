{
 "cells": [
  {
   "cell_type": "code",
   "execution_count": null,
   "id": "373073c7",
   "metadata": {},
   "outputs": [],
   "source": []
  },
  {
   "cell_type": "code",
   "execution_count": 9,
   "id": "4b78db6e",
   "metadata": {},
   "outputs": [
    {
     "name": "stdout",
     "output_type": "stream",
     "text": [
      "Requirement already satisfied: biopython in c:\\users\\user\\anaconda3\\lib\\site-packages (1.85)\n",
      "Requirement already satisfied: numpy in c:\\users\\user\\anaconda3\\lib\\site-packages (from biopython) (1.23.5)\n"
     ]
    }
   ],
   "source": [
    "!pip install biopython\n"
   ]
  },
  {
   "cell_type": "code",
   "execution_count": 12,
   "id": "a41e82a5",
   "metadata": {},
   "outputs": [],
   "source": [
    "import pandas as pd\n",
    "import requests\n",
    "import csv\n",
    "import argparse\n",
    "from typing import List, Dict, Optional\n",
    "from Bio import Entrez\n",
    "\n",
    "\n",
    "Entrez.email = \"your-email@example.com\" \n",
    "\n",
    "\n",
    "NON_ACADEMIC_KEYWORDS = [\"Pharma\", \"Biotech\", \"Inc\", \"Ltd\", \"Corporation\", \"Company\"]\n",
    "\n",
    "\n",
    "\n",
    "\n",
    "\n"
   ]
  },
  {
   "cell_type": "code",
   "execution_count": 13,
   "id": "b1369477",
   "metadata": {},
   "outputs": [],
   "source": [
    "def fetch_pubmed_papers(query: str, max_results: int = 50) -> List[Dict]:\n",
    "    \"\"\"Fetches papers from PubMed based on a given query.\"\"\"\n",
    "    handle = Entrez.esearch(db=\"pubmed\", term=query, retmax=max_results)\n",
    "    record = Entrez.read(handle)\n",
    "    handle.close()\n",
    "    pmids = record[\"IdList\"]\n",
    "    \n",
    "    papers = []\n",
    "    for pmid in pmids:\n",
    "        paper = fetch_paper_details(pmid)\n",
    "        if paper:\n",
    "            papers.append(paper)\n",
    "    \n",
    "    return papers"
   ]
  },
  {
   "cell_type": "code",
   "execution_count": 14,
   "id": "e90b6e6b",
   "metadata": {},
   "outputs": [],
   "source": [
    "def fetch_paper_details(pmid: str) -> Optional[Dict]:\n",
    "    \"\"\"Fetches detailed paper metadata from PubMed.\"\"\"\n",
    "    handle = Entrez.efetch(db=\"pubmed\", id=pmid, retmode=\"xml\")\n",
    "    records = Entrez.read(handle)\n",
    "    handle.close()\n",
    "    \n",
    "    try:\n",
    "        article = records[\"PubmedArticle\"][0][\"MedlineCitation\"][\"Article\"]\n",
    "        title = article.get(\"ArticleTitle\", \"N/A\")\n",
    "        pub_date = article.get(\"Journal\", {}).get(\"JournalIssue\", {}).get(\"PubDate\", \"N/A\")\n",
    "        authors = article.get(\"AuthorList\", [])\n",
    "        \n",
    "        non_academic_authors, affiliations = extract_non_academic_authors(authors)\n",
    "        corresponding_email = extract_corresponding_email(authors)\n",
    "        \n",
    "        if non_academic_authors:\n",
    "            return {\n",
    "                \"PubmedID\": pmid,\n",
    "                \"Title\": title,\n",
    "                \"Publication Date\": pub_date,\n",
    "                \"Non-academic Author(s)\": \", \".join(non_academic_authors),\n",
    "                \"Company Affiliation(s)\": \", \".join(affiliations),\n",
    "                \"Corresponding Author Email\": corresponding_email,\n",
    "            }\n",
    "    except Exception:\n",
    "        return None"
   ]
  },
  {
   "cell_type": "code",
   "execution_count": 15,
   "id": "c719c7a8",
   "metadata": {},
   "outputs": [],
   "source": [
    "def extract_non_academic_authors(authors: List[Dict]) -> (List[str], List[str]):\n",
    "    \"\"\"Extracts authors affiliated with non-academic institutions.\"\"\"\n",
    "    non_academic_authors = []\n",
    "    company_affiliations = []\n",
    "    \n",
    "    for author in authors:\n",
    "        affiliation = author.get(\"AffiliationInfo\", [{}])[0].get(\"Affiliation\", \"\")\n",
    "        if any(keyword in affiliation for keyword in NON_ACADEMIC_KEYWORDS):\n",
    "            non_academic_authors.append(author.get(\"LastName\", \"\") + \" \" + author.get(\"ForeName\", \"\"))\n",
    "            company_affiliations.append(affiliation)\n",
    "    \n",
    "    return non_academic_authors, company_affiliations"
   ]
  },
  {
   "cell_type": "code",
   "execution_count": 16,
   "id": "984f77fb",
   "metadata": {},
   "outputs": [],
   "source": [
    "def extract_corresponding_email(authors: List[Dict]) -> str:\n",
    "    \"\"\"Extracts the email of the corresponding author if available.\"\"\"\n",
    "    for author in authors:\n",
    "        if \"@\" in author.get(\"Affiliation\", \"\"):\n",
    "            return author.get(\"Affiliation\", \"\").split()[-1]\n",
    "    return \"N/A\""
   ]
  },
  {
   "cell_type": "code",
   "execution_count": 17,
   "id": "508d25ce",
   "metadata": {},
   "outputs": [],
   "source": [
    "def save_to_csv(papers: List[Dict], filename: str):\n",
    "    \"\"\"Saves the fetched papers to a CSV file.\"\"\"\n",
    "    with open(filename, mode=\"w\", newline=\"\", encoding=\"utf-8\") as file:\n",
    "        writer = csv.DictWriter(file, fieldnames=[\"PubmedID\", \"Title\", \"Publication Date\", \"Non-academic Author(s)\", \"Company Affiliation(s)\", \"Corresponding Author Email\"])\n",
    "        writer.writeheader()\n",
    "        writer.writerows(papers)"
   ]
  },
  {
   "cell_type": "code",
   "execution_count": 19,
   "id": "3579b39c",
   "metadata": {},
   "outputs": [],
   "source": [
    "def main():\n",
    "    parser = argparse.ArgumentParser(description=\"Fetch research papers from PubMed.\")\n",
    "    parser.add_argument(\"query\", type=str, help=\"Search query for PubMed\")\n",
    "    parser.add_argument(\"-f\", \"--file\", type=str, help=\"Output CSV filename\", default=\"output.csv\")\n",
    "    parser.add_argument(\"-d\", \"--debug\", action=\"store_true\", help=\"Enable debug mode\")\n",
    "    args = parser.parse_args()\n",
    "    \n",
    "    if args.debug:\n",
    "        print(f\"Fetching papers for query: {args.query}\")\n",
    "    \n",
    "    papers = fetch_pubmed_papers(args.query)\n",
    "    if papers:\n",
    "        save_to_csv(papers, args.file)\n",
    "        print(f\"Results saved to {args.file}\")\n",
    "    else:\n",
    "        print(\"No relevant papers found.\")\n",
    "\n",
    "\n"
   ]
  },
  {
   "cell_type": "code",
   "execution_count": 21,
   "id": "f1dca594",
   "metadata": {},
   "outputs": [
    {
     "name": "stdout",
     "output_type": "stream",
     "text": [
      "Results saved to output.csv\n"
     ]
    }
   ],
   "source": [
    "import sys\n",
    "sys.argv = [\"notebook\", \"cancer therapy\", \"-f\", \"output.csv\"] \n",
    "\n",
    "main() "
   ]
  },
  {
   "cell_type": "code",
   "execution_count": 22,
   "id": "9c6d58eb",
   "metadata": {},
   "outputs": [
    {
     "data": {
      "text/html": [
       "<div>\n",
       "<style scoped>\n",
       "    .dataframe tbody tr th:only-of-type {\n",
       "        vertical-align: middle;\n",
       "    }\n",
       "\n",
       "    .dataframe tbody tr th {\n",
       "        vertical-align: top;\n",
       "    }\n",
       "\n",
       "    .dataframe thead th {\n",
       "        text-align: right;\n",
       "    }\n",
       "</style>\n",
       "<table border=\"1\" class=\"dataframe\">\n",
       "  <thead>\n",
       "    <tr style=\"text-align: right;\">\n",
       "      <th></th>\n",
       "      <th>PubmedID</th>\n",
       "      <th>Title</th>\n",
       "      <th>Publication Date</th>\n",
       "      <th>Non-academic Author(s)</th>\n",
       "      <th>Company Affiliation(s)</th>\n",
       "      <th>Corresponding Author Email</th>\n",
       "    </tr>\n",
       "  </thead>\n",
       "  <tbody>\n",
       "    <tr>\n",
       "      <th>0</th>\n",
       "      <td>40053899</td>\n",
       "      <td>Real-World Analysis Evaluating Treatment Eligi...</td>\n",
       "      <td>{'Year': '2025', 'Month': 'Mar'}</td>\n",
       "      <td>Eipe Thomas</td>\n",
       "      <td>Department of Clinical Pharmacology, Advanced ...</td>\n",
       "      <td>NaN</td>\n",
       "    </tr>\n",
       "    <tr>\n",
       "      <th>1</th>\n",
       "      <td>40053698</td>\n",
       "      <td>Prospective Evaluation of Structure-Based Simu...</td>\n",
       "      <td>{'Year': '2025', 'Month': 'Mar', 'Day': '07'}</td>\n",
       "      <td>Rangwala Aziz M, Bluck Joseph P, Christ Clara ...</td>\n",
       "      <td>Department of Pharmacological Sciences, Stony ...</td>\n",
       "      <td>NaN</td>\n",
       "    </tr>\n",
       "    <tr>\n",
       "      <th>2</th>\n",
       "      <td>40053692</td>\n",
       "      <td>Radiation Dose-Volume Effects on Negative Tumo...</td>\n",
       "      <td>{'Year': '2025', 'Month': 'Mar', 'Day': '07'}</td>\n",
       "      <td>Xu Yang</td>\n",
       "      <td>Enhance Human Health Through Pharma Technology...</td>\n",
       "      <td>NaN</td>\n",
       "    </tr>\n",
       "    <tr>\n",
       "      <th>3</th>\n",
       "      <td>40053689</td>\n",
       "      <td>Bioenergetics of human spermatozoa in patients...</td>\n",
       "      <td>{'Year': '2025', 'Month': 'Mar', 'Day': '07'}</td>\n",
       "      <td>Simonik Ondrej, Bryndova Barbora, Sur Vishma P...</td>\n",
       "      <td>Laboratory of Reproductive Biology, Institute ...</td>\n",
       "      <td>NaN</td>\n",
       "    </tr>\n",
       "    <tr>\n",
       "      <th>4</th>\n",
       "      <td>40053572</td>\n",
       "      <td>Hafnium-Doped Prussian Blue Nanoparticles with...</td>\n",
       "      <td>{'Year': '2025', 'Month': 'Mar', 'Day': '07'}</td>\n",
       "      <td>Kuang Ye, Chen Yufang, Liu Xinying, Liu Baohui...</td>\n",
       "      <td>Fujian Key Laboratory of Drug Target Discovery...</td>\n",
       "      <td>NaN</td>\n",
       "    </tr>\n",
       "  </tbody>\n",
       "</table>\n",
       "</div>"
      ],
      "text/plain": [
       "   PubmedID                                              Title  \\\n",
       "0  40053899  Real-World Analysis Evaluating Treatment Eligi...   \n",
       "1  40053698  Prospective Evaluation of Structure-Based Simu...   \n",
       "2  40053692  Radiation Dose-Volume Effects on Negative Tumo...   \n",
       "3  40053689  Bioenergetics of human spermatozoa in patients...   \n",
       "4  40053572  Hafnium-Doped Prussian Blue Nanoparticles with...   \n",
       "\n",
       "                                Publication Date  \\\n",
       "0               {'Year': '2025', 'Month': 'Mar'}   \n",
       "1  {'Year': '2025', 'Month': 'Mar', 'Day': '07'}   \n",
       "2  {'Year': '2025', 'Month': 'Mar', 'Day': '07'}   \n",
       "3  {'Year': '2025', 'Month': 'Mar', 'Day': '07'}   \n",
       "4  {'Year': '2025', 'Month': 'Mar', 'Day': '07'}   \n",
       "\n",
       "                              Non-academic Author(s)  \\\n",
       "0                                        Eipe Thomas   \n",
       "1  Rangwala Aziz M, Bluck Joseph P, Christ Clara ...   \n",
       "2                                            Xu Yang   \n",
       "3  Simonik Ondrej, Bryndova Barbora, Sur Vishma P...   \n",
       "4  Kuang Ye, Chen Yufang, Liu Xinying, Liu Baohui...   \n",
       "\n",
       "                              Company Affiliation(s)  \\\n",
       "0  Department of Clinical Pharmacology, Advanced ...   \n",
       "1  Department of Pharmacological Sciences, Stony ...   \n",
       "2  Enhance Human Health Through Pharma Technology...   \n",
       "3  Laboratory of Reproductive Biology, Institute ...   \n",
       "4  Fujian Key Laboratory of Drug Target Discovery...   \n",
       "\n",
       "   Corresponding Author Email  \n",
       "0                         NaN  \n",
       "1                         NaN  \n",
       "2                         NaN  \n",
       "3                         NaN  \n",
       "4                         NaN  "
      ]
     },
     "execution_count": 22,
     "metadata": {},
     "output_type": "execute_result"
    }
   ],
   "source": [
    "import pandas as pd\n",
    "\n",
    "df = pd.read_csv(output_file)\n",
    "df.head()\n"
   ]
  },
  {
   "cell_type": "code",
   "execution_count": null,
   "id": "a75172f7",
   "metadata": {},
   "outputs": [],
   "source": []
  }
 ],
 "metadata": {
  "kernelspec": {
   "display_name": "Python 3 (ipykernel)",
   "language": "python",
   "name": "python3"
  },
  "language_info": {
   "codemirror_mode": {
    "name": "ipython",
    "version": 3
   },
   "file_extension": ".py",
   "mimetype": "text/x-python",
   "name": "python",
   "nbconvert_exporter": "python",
   "pygments_lexer": "ipython3",
   "version": "3.10.9"
  }
 },
 "nbformat": 4,
 "nbformat_minor": 5
}
